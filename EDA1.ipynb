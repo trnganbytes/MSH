{
 "cells": [
  {
   "cell_type": "code",
   "execution_count": 1,
   "id": "aa72d822-082f-40e1-a498-afbd8bb1b6c7",
   "metadata": {},
   "outputs": [
    {
     "name": "stdout",
     "output_type": "stream",
     "text": [
      "Defaulting to user installation because normal site-packages is not writeable\n",
      "Requirement already satisfied: vnstock in c:\\users\\huycn\\appdata\\local\\packages\\pythonsoftwarefoundation.python.3.13_qbz5n2kfra8p0\\localcache\\local-packages\\python313\\site-packages (3.2.6)\n",
      "Requirement already satisfied: requests in c:\\users\\huycn\\appdata\\local\\packages\\pythonsoftwarefoundation.python.3.13_qbz5n2kfra8p0\\localcache\\local-packages\\python313\\site-packages (from vnstock) (2.32.3)\n",
      "Requirement already satisfied: beautifulsoup4 in c:\\users\\huycn\\appdata\\local\\packages\\pythonsoftwarefoundation.python.3.13_qbz5n2kfra8p0\\localcache\\local-packages\\python313\\site-packages (from vnstock) (4.13.3)\n",
      "Requirement already satisfied: pandas in c:\\users\\huycn\\appdata\\local\\packages\\pythonsoftwarefoundation.python.3.13_qbz5n2kfra8p0\\localcache\\local-packages\\python313\\site-packages (from vnstock) (2.2.3)\n",
      "Requirement already satisfied: seaborn in c:\\users\\huycn\\appdata\\local\\packages\\pythonsoftwarefoundation.python.3.13_qbz5n2kfra8p0\\localcache\\local-packages\\python313\\site-packages (from vnstock) (0.13.2)\n",
      "Requirement already satisfied: openpyxl in c:\\users\\huycn\\appdata\\local\\packages\\pythonsoftwarefoundation.python.3.13_qbz5n2kfra8p0\\localcache\\local-packages\\python313\\site-packages (from vnstock) (3.1.5)\n",
      "Requirement already satisfied: pydantic in c:\\users\\huycn\\appdata\\local\\packages\\pythonsoftwarefoundation.python.3.13_qbz5n2kfra8p0\\localcache\\local-packages\\python313\\site-packages (from vnstock) (2.11.1)\n",
      "Requirement already satisfied: psutil in c:\\users\\huycn\\appdata\\local\\packages\\pythonsoftwarefoundation.python.3.13_qbz5n2kfra8p0\\localcache\\local-packages\\python313\\site-packages (from vnstock) (7.0.0)\n",
      "Requirement already satisfied: fake_useragent in c:\\users\\huycn\\appdata\\local\\packages\\pythonsoftwarefoundation.python.3.13_qbz5n2kfra8p0\\localcache\\local-packages\\python313\\site-packages (from vnstock) (2.1.0)\n",
      "Requirement already satisfied: vnstock_ezchart in c:\\users\\huycn\\appdata\\local\\packages\\pythonsoftwarefoundation.python.3.13_qbz5n2kfra8p0\\localcache\\local-packages\\python313\\site-packages (from vnstock) (0.0.2)\n",
      "Requirement already satisfied: click in c:\\users\\huycn\\appdata\\local\\packages\\pythonsoftwarefoundation.python.3.13_qbz5n2kfra8p0\\localcache\\local-packages\\python313\\site-packages (from vnstock) (8.1.8)\n",
      "Requirement already satisfied: packaging>=20.0 in c:\\users\\huycn\\appdata\\local\\packages\\pythonsoftwarefoundation.python.3.13_qbz5n2kfra8p0\\localcache\\local-packages\\python313\\site-packages (from vnstock) (24.2)\n",
      "Requirement already satisfied: importlib-metadata>=1.0 in c:\\users\\huycn\\appdata\\local\\packages\\pythonsoftwarefoundation.python.3.13_qbz5n2kfra8p0\\localcache\\local-packages\\python313\\site-packages (from vnstock) (8.7.0)\n",
      "Requirement already satisfied: tenacity in c:\\users\\huycn\\appdata\\local\\packages\\pythonsoftwarefoundation.python.3.13_qbz5n2kfra8p0\\localcache\\local-packages\\python313\\site-packages (from vnstock) (9.1.2)\n",
      "Requirement already satisfied: vnai>=2.0.3 in c:\\users\\huycn\\appdata\\local\\packages\\pythonsoftwarefoundation.python.3.13_qbz5n2kfra8p0\\localcache\\local-packages\\python313\\site-packages (from vnstock) (2.0.4)\n",
      "Requirement already satisfied: zipp>=3.20 in c:\\users\\huycn\\appdata\\local\\packages\\pythonsoftwarefoundation.python.3.13_qbz5n2kfra8p0\\localcache\\local-packages\\python313\\site-packages (from importlib-metadata>=1.0->vnstock) (3.22.0)\n",
      "Requirement already satisfied: charset-normalizer<4,>=2 in c:\\users\\huycn\\appdata\\local\\packages\\pythonsoftwarefoundation.python.3.13_qbz5n2kfra8p0\\localcache\\local-packages\\python313\\site-packages (from requests->vnstock) (3.4.1)\n",
      "Requirement already satisfied: idna<4,>=2.5 in c:\\users\\huycn\\appdata\\local\\packages\\pythonsoftwarefoundation.python.3.13_qbz5n2kfra8p0\\localcache\\local-packages\\python313\\site-packages (from requests->vnstock) (3.10)\n",
      "Requirement already satisfied: urllib3<3,>=1.21.1 in c:\\users\\huycn\\appdata\\local\\packages\\pythonsoftwarefoundation.python.3.13_qbz5n2kfra8p0\\localcache\\local-packages\\python313\\site-packages (from requests->vnstock) (2.3.0)\n",
      "Requirement already satisfied: certifi>=2017.4.17 in c:\\users\\huycn\\appdata\\local\\packages\\pythonsoftwarefoundation.python.3.13_qbz5n2kfra8p0\\localcache\\local-packages\\python313\\site-packages (from requests->vnstock) (2025.1.31)\n",
      "Requirement already satisfied: soupsieve>1.2 in c:\\users\\huycn\\appdata\\local\\packages\\pythonsoftwarefoundation.python.3.13_qbz5n2kfra8p0\\localcache\\local-packages\\python313\\site-packages (from beautifulsoup4->vnstock) (2.6)\n",
      "Requirement already satisfied: typing-extensions>=4.0.0 in c:\\users\\huycn\\appdata\\local\\packages\\pythonsoftwarefoundation.python.3.13_qbz5n2kfra8p0\\localcache\\local-packages\\python313\\site-packages (from beautifulsoup4->vnstock) (4.13.0)\n",
      "Requirement already satisfied: colorama in c:\\users\\huycn\\appdata\\local\\packages\\pythonsoftwarefoundation.python.3.13_qbz5n2kfra8p0\\localcache\\local-packages\\python313\\site-packages (from click->vnstock) (0.4.6)\n",
      "Requirement already satisfied: et-xmlfile in c:\\users\\huycn\\appdata\\local\\packages\\pythonsoftwarefoundation.python.3.13_qbz5n2kfra8p0\\localcache\\local-packages\\python313\\site-packages (from openpyxl->vnstock) (2.0.0)\n",
      "Requirement already satisfied: numpy>=1.26.0 in c:\\users\\huycn\\appdata\\local\\packages\\pythonsoftwarefoundation.python.3.13_qbz5n2kfra8p0\\localcache\\local-packages\\python313\\site-packages (from pandas->vnstock) (2.2.4)\n",
      "Requirement already satisfied: python-dateutil>=2.8.2 in c:\\users\\huycn\\appdata\\local\\packages\\pythonsoftwarefoundation.python.3.13_qbz5n2kfra8p0\\localcache\\local-packages\\python313\\site-packages (from pandas->vnstock) (2.9.0.post0)\n",
      "Requirement already satisfied: pytz>=2020.1 in c:\\users\\huycn\\appdata\\local\\packages\\pythonsoftwarefoundation.python.3.13_qbz5n2kfra8p0\\localcache\\local-packages\\python313\\site-packages (from pandas->vnstock) (2025.2)\n",
      "Requirement already satisfied: tzdata>=2022.7 in c:\\users\\huycn\\appdata\\local\\packages\\pythonsoftwarefoundation.python.3.13_qbz5n2kfra8p0\\localcache\\local-packages\\python313\\site-packages (from pandas->vnstock) (2025.2)\n",
      "Requirement already satisfied: six>=1.5 in c:\\users\\huycn\\appdata\\local\\packages\\pythonsoftwarefoundation.python.3.13_qbz5n2kfra8p0\\localcache\\local-packages\\python313\\site-packages (from python-dateutil>=2.8.2->pandas->vnstock) (1.17.0)\n",
      "Requirement already satisfied: annotated-types>=0.6.0 in c:\\users\\huycn\\appdata\\local\\packages\\pythonsoftwarefoundation.python.3.13_qbz5n2kfra8p0\\localcache\\local-packages\\python313\\site-packages (from pydantic->vnstock) (0.7.0)\n",
      "Requirement already satisfied: pydantic-core==2.33.0 in c:\\users\\huycn\\appdata\\local\\packages\\pythonsoftwarefoundation.python.3.13_qbz5n2kfra8p0\\localcache\\local-packages\\python313\\site-packages (from pydantic->vnstock) (2.33.0)\n",
      "Requirement already satisfied: typing-inspection>=0.4.0 in c:\\users\\huycn\\appdata\\local\\packages\\pythonsoftwarefoundation.python.3.13_qbz5n2kfra8p0\\localcache\\local-packages\\python313\\site-packages (from pydantic->vnstock) (0.4.0)\n",
      "Requirement already satisfied: matplotlib!=3.6.1,>=3.4 in c:\\users\\huycn\\appdata\\local\\packages\\pythonsoftwarefoundation.python.3.13_qbz5n2kfra8p0\\localcache\\local-packages\\python313\\site-packages (from seaborn->vnstock) (3.10.1)\n",
      "Requirement already satisfied: contourpy>=1.0.1 in c:\\users\\huycn\\appdata\\local\\packages\\pythonsoftwarefoundation.python.3.13_qbz5n2kfra8p0\\localcache\\local-packages\\python313\\site-packages (from matplotlib!=3.6.1,>=3.4->seaborn->vnstock) (1.3.1)\n",
      "Requirement already satisfied: cycler>=0.10 in c:\\users\\huycn\\appdata\\local\\packages\\pythonsoftwarefoundation.python.3.13_qbz5n2kfra8p0\\localcache\\local-packages\\python313\\site-packages (from matplotlib!=3.6.1,>=3.4->seaborn->vnstock) (0.12.1)\n",
      "Requirement already satisfied: fonttools>=4.22.0 in c:\\users\\huycn\\appdata\\local\\packages\\pythonsoftwarefoundation.python.3.13_qbz5n2kfra8p0\\localcache\\local-packages\\python313\\site-packages (from matplotlib!=3.6.1,>=3.4->seaborn->vnstock) (4.56.0)\n",
      "Requirement already satisfied: kiwisolver>=1.3.1 in c:\\users\\huycn\\appdata\\local\\packages\\pythonsoftwarefoundation.python.3.13_qbz5n2kfra8p0\\localcache\\local-packages\\python313\\site-packages (from matplotlib!=3.6.1,>=3.4->seaborn->vnstock) (1.4.8)\n",
      "Requirement already satisfied: pillow>=8 in c:\\users\\huycn\\appdata\\local\\packages\\pythonsoftwarefoundation.python.3.13_qbz5n2kfra8p0\\localcache\\local-packages\\python313\\site-packages (from matplotlib!=3.6.1,>=3.4->seaborn->vnstock) (11.1.0)\n",
      "Requirement already satisfied: pyparsing>=2.3.1 in c:\\users\\huycn\\appdata\\local\\packages\\pythonsoftwarefoundation.python.3.13_qbz5n2kfra8p0\\localcache\\local-packages\\python313\\site-packages (from matplotlib!=3.6.1,>=3.4->seaborn->vnstock) (3.2.3)\n",
      "Requirement already satisfied: squarify in c:\\users\\huycn\\appdata\\local\\packages\\pythonsoftwarefoundation.python.3.13_qbz5n2kfra8p0\\localcache\\local-packages\\python313\\site-packages (from vnstock_ezchart->vnstock) (0.4.4)\n",
      "Requirement already satisfied: wordcloud in c:\\users\\huycn\\appdata\\local\\packages\\pythonsoftwarefoundation.python.3.13_qbz5n2kfra8p0\\localcache\\local-packages\\python313\\site-packages (from vnstock_ezchart->vnstock) (1.9.4)\n",
      "Note: you may need to restart the kernel to use updated packages.\n"
     ]
    }
   ],
   "source": [
    "pip install vnstock --upgrade"
   ]
  },
  {
   "cell_type": "code",
   "execution_count": 3,
   "id": "fd3b0c8d-25ba-42fa-84de-2d4d9c140d93",
   "metadata": {},
   "outputs": [
    {
     "name": "stdout",
     "output_type": "stream",
     "text": [
      "Name: vnstock\n",
      "Version: 3.2.6\n",
      "Summary: A beginner-friendly yet powerful Python toolkit for financial analysis and automation — built to make modern investing accessible to everyone\n",
      "Home-page: https://github.com/thinh-vu/vnstock\n",
      "Author: Thinh Vu\n",
      "Author-email: support@vnstocks.com\n",
      "License: Custom: Personal, research, non-commercial; contact support@vnstocks.com for other use\n",
      "Location: C:\\Users\\huycn\\AppData\\Local\\Packages\\PythonSoftwareFoundation.Python.3.13_qbz5n2kfra8p0\\LocalCache\\local-packages\\Python313\\site-packages\n",
      "Requires: beautifulsoup4, click, fake_useragent, importlib-metadata, openpyxl, packaging, pandas, psutil, pydantic, requests, seaborn, tenacity, vnai, vnstock_ezchart\n",
      "Required-by: vnstock_ezchart\n",
      "Note: you may need to restart the kernel to use updated packages.\n"
     ]
    }
   ],
   "source": [
    "pip show vnstock"
   ]
  },
  {
   "cell_type": "code",
   "execution_count": 1,
   "id": "53d810bb-3953-4ba0-aad3-fe15fe3ffad1",
   "metadata": {},
   "outputs": [
    {
     "data": {
      "text/markdown": [
       "\n",
       "## 👋 Chào mừng bạn đến với Vnstock!\n",
       "\n",
       "Cảm ơn bạn đã sử dụng package phân tích chứng khoán #1 tại Việt Nam\n",
       "\n",
       "* Tài liệu: [Sổ tay hướng dẫn](https://vnstocks.com/docs/category/s%E1%BB%95-tay-h%C6%B0%E1%BB%9Bng-d%E1%BA%ABn)\n",
       "* Cộng đồng: [Nhóm Facebook](https://www.facebook.com/groups/vnstock.official)\n",
       "\n",
       "Khám phá các tính năng mới nhất và tham gia cộng đồng để nhận hỗ trợ.\n",
       "                "
      ],
      "text/plain": [
       "<IPython.core.display.Markdown object>"
      ]
     },
     "metadata": {},
     "output_type": "display_data"
    },
    {
     "name": "stdout",
     "output_type": "stream",
     "text": [
      "['Company', 'Finance', 'Fund', 'Listing', 'Quote', 'Screener', 'Trading', 'Vnstock', '__all__', '__builtins__', '__cached__', '__doc__', '__file__', '__loader__', '__name__', '__package__', '__path__', '__spec__', 'api', 'base', 'chart_wrapper', 'common', 'config', 'core', 'explorer', 'vnai']\n"
     ]
    }
   ],
   "source": [
    "import vnstock\n",
    "print(dir(vnstock))"
   ]
  },
  {
   "cell_type": "code",
   "execution_count": 3,
   "id": "e5d989ba-5f60-4da4-a300-c79fc1ff8705",
   "metadata": {},
   "outputs": [
    {
     "ename": "AttributeError",
     "evalue": "'Company' object has no attribute 'get_price_data'",
     "output_type": "error",
     "traceback": [
      "\u001b[31m---------------------------------------------------------------------------\u001b[39m",
      "\u001b[31mAttributeError\u001b[39m                            Traceback (most recent call last)",
      "\u001b[36mCell\u001b[39m\u001b[36m \u001b[39m\u001b[32mIn[3]\u001b[39m\u001b[32m, line 7\u001b[39m\n\u001b[32m      4\u001b[39m msh = Company(symbol=\u001b[33m\"\u001b[39m\u001b[33mMSH\u001b[39m\u001b[33m\"\u001b[39m)\n\u001b[32m      6\u001b[39m \u001b[38;5;66;03m# Lấy dữ liệu giá cổ phiếu\u001b[39;00m\n\u001b[32m----> \u001b[39m\u001b[32m7\u001b[39m df = \u001b[43mmsh\u001b[49m\u001b[43m.\u001b[49m\u001b[43mget_price_data\u001b[49m(\n\u001b[32m      8\u001b[39m     start_date=\u001b[33m'\u001b[39m\u001b[33m2019-01-01\u001b[39m\u001b[33m'\u001b[39m,\n\u001b[32m      9\u001b[39m     end_date=\u001b[33m'\u001b[39m\u001b[33m2024-12-31\u001b[39m\u001b[33m'\u001b[39m,\n\u001b[32m     10\u001b[39m     resolution=\u001b[33m'\u001b[39m\u001b[33m1D\u001b[39m\u001b[33m'\u001b[39m\n\u001b[32m     11\u001b[39m )\n\u001b[32m     13\u001b[39m \u001b[38;5;28mprint\u001b[39m(df.head())\n",
      "\u001b[36mFile \u001b[39m\u001b[32m~\\AppData\\Local\\Packages\\PythonSoftwareFoundation.Python.3.13_qbz5n2kfra8p0\\LocalCache\\local-packages\\Python313\\site-packages\\vnstock\\base.py:90\u001b[39m, in \u001b[36mBaseAdapter.__getattr__\u001b[39m\u001b[34m(self, name)\u001b[39m\n\u001b[32m     88\u001b[39m \u001b[38;5;28;01mdef\u001b[39;00m\u001b[38;5;250m \u001b[39m\u001b[34m__getattr__\u001b[39m(\u001b[38;5;28mself\u001b[39m, name):\n\u001b[32m     89\u001b[39m     \u001b[38;5;66;03m# Delegate attribute access to the provider\u001b[39;00m\n\u001b[32m---> \u001b[39m\u001b[32m90\u001b[39m     \u001b[38;5;28;01mreturn\u001b[39;00m \u001b[38;5;28;43mgetattr\u001b[39;49m\u001b[43m(\u001b[49m\u001b[38;5;28;43mself\u001b[39;49m\u001b[43m.\u001b[49m\u001b[43m_provider\u001b[49m\u001b[43m,\u001b[49m\u001b[43m \u001b[49m\u001b[43mname\u001b[49m\u001b[43m)\u001b[49m\n",
      "\u001b[31mAttributeError\u001b[39m: 'Company' object has no attribute 'get_price_data'"
     ]
    }
   ],
   "source": [
    "from vnstock import Company\n",
    "\n",
    "# Khởi tạo một đối tượng công ty với mã cổ phiếu MSH\n",
    "msh = Company(symbol=\"MSH\")\n",
    "\n",
    "# Lấy dữ liệu giá cổ phiếu\n",
    "df = msh.get_price_data(\n",
    "    start_date='2019-01-01',\n",
    "    end_date='2024-12-31',\n",
    "    resolution='1D'\n",
    ")\n",
    "\n",
    "print(df.head())"
   ]
  },
  {
   "cell_type": "code",
   "execution_count": 4,
   "id": "fb873d2f-7323-4b70-b5b0-087df50380d6",
   "metadata": {},
   "outputs": [
    {
     "name": "stdout",
     "output_type": "stream",
     "text": [
      "Found existing installation: vnstock 3.2.6\n",
      "Uninstalling vnstock-3.2.6:\n",
      "  Successfully uninstalled vnstock-3.2.6\n",
      "Note: you may need to restart the kernel to use updated packages.\n"
     ]
    }
   ],
   "source": [
    "pip uninstall vnstock -y"
   ]
  },
  {
   "cell_type": "code",
   "execution_count": 5,
   "id": "738ca425-db89-4fcd-88a8-10383cfcb920",
   "metadata": {},
   "outputs": [
    {
     "name": "stdout",
     "output_type": "stream",
     "text": [
      "Defaulting to user installation because normal site-packages is not writeable\n",
      "Collecting vnstock\n",
      "  Using cached vnstock-3.2.6-py3-none-any.whl.metadata (42 kB)\n",
      "Requirement already satisfied: requests in c:\\users\\huycn\\appdata\\local\\packages\\pythonsoftwarefoundation.python.3.13_qbz5n2kfra8p0\\localcache\\local-packages\\python313\\site-packages (from vnstock) (2.32.3)\n",
      "Requirement already satisfied: beautifulsoup4 in c:\\users\\huycn\\appdata\\local\\packages\\pythonsoftwarefoundation.python.3.13_qbz5n2kfra8p0\\localcache\\local-packages\\python313\\site-packages (from vnstock) (4.13.3)\n",
      "Requirement already satisfied: pandas in c:\\users\\huycn\\appdata\\local\\packages\\pythonsoftwarefoundation.python.3.13_qbz5n2kfra8p0\\localcache\\local-packages\\python313\\site-packages (from vnstock) (2.2.3)\n",
      "Requirement already satisfied: seaborn in c:\\users\\huycn\\appdata\\local\\packages\\pythonsoftwarefoundation.python.3.13_qbz5n2kfra8p0\\localcache\\local-packages\\python313\\site-packages (from vnstock) (0.13.2)\n",
      "Requirement already satisfied: openpyxl in c:\\users\\huycn\\appdata\\local\\packages\\pythonsoftwarefoundation.python.3.13_qbz5n2kfra8p0\\localcache\\local-packages\\python313\\site-packages (from vnstock) (3.1.5)\n",
      "Requirement already satisfied: pydantic in c:\\users\\huycn\\appdata\\local\\packages\\pythonsoftwarefoundation.python.3.13_qbz5n2kfra8p0\\localcache\\local-packages\\python313\\site-packages (from vnstock) (2.11.1)\n",
      "Requirement already satisfied: psutil in c:\\users\\huycn\\appdata\\local\\packages\\pythonsoftwarefoundation.python.3.13_qbz5n2kfra8p0\\localcache\\local-packages\\python313\\site-packages (from vnstock) (7.0.0)\n",
      "Requirement already satisfied: fake_useragent in c:\\users\\huycn\\appdata\\local\\packages\\pythonsoftwarefoundation.python.3.13_qbz5n2kfra8p0\\localcache\\local-packages\\python313\\site-packages (from vnstock) (2.1.0)\n",
      "Requirement already satisfied: vnstock_ezchart in c:\\users\\huycn\\appdata\\local\\packages\\pythonsoftwarefoundation.python.3.13_qbz5n2kfra8p0\\localcache\\local-packages\\python313\\site-packages (from vnstock) (0.0.2)\n",
      "Requirement already satisfied: click in c:\\users\\huycn\\appdata\\local\\packages\\pythonsoftwarefoundation.python.3.13_qbz5n2kfra8p0\\localcache\\local-packages\\python313\\site-packages (from vnstock) (8.1.8)\n",
      "Requirement already satisfied: packaging>=20.0 in c:\\users\\huycn\\appdata\\local\\packages\\pythonsoftwarefoundation.python.3.13_qbz5n2kfra8p0\\localcache\\local-packages\\python313\\site-packages (from vnstock) (24.2)\n",
      "Requirement already satisfied: importlib-metadata>=1.0 in c:\\users\\huycn\\appdata\\local\\packages\\pythonsoftwarefoundation.python.3.13_qbz5n2kfra8p0\\localcache\\local-packages\\python313\\site-packages (from vnstock) (8.7.0)\n",
      "Requirement already satisfied: tenacity in c:\\users\\huycn\\appdata\\local\\packages\\pythonsoftwarefoundation.python.3.13_qbz5n2kfra8p0\\localcache\\local-packages\\python313\\site-packages (from vnstock) (9.1.2)\n",
      "Requirement already satisfied: vnai>=2.0.3 in c:\\users\\huycn\\appdata\\local\\packages\\pythonsoftwarefoundation.python.3.13_qbz5n2kfra8p0\\localcache\\local-packages\\python313\\site-packages (from vnstock) (2.0.4)\n",
      "Requirement already satisfied: zipp>=3.20 in c:\\users\\huycn\\appdata\\local\\packages\\pythonsoftwarefoundation.python.3.13_qbz5n2kfra8p0\\localcache\\local-packages\\python313\\site-packages (from importlib-metadata>=1.0->vnstock) (3.22.0)\n",
      "Requirement already satisfied: charset-normalizer<4,>=2 in c:\\users\\huycn\\appdata\\local\\packages\\pythonsoftwarefoundation.python.3.13_qbz5n2kfra8p0\\localcache\\local-packages\\python313\\site-packages (from requests->vnstock) (3.4.1)\n",
      "Requirement already satisfied: idna<4,>=2.5 in c:\\users\\huycn\\appdata\\local\\packages\\pythonsoftwarefoundation.python.3.13_qbz5n2kfra8p0\\localcache\\local-packages\\python313\\site-packages (from requests->vnstock) (3.10)\n",
      "Requirement already satisfied: urllib3<3,>=1.21.1 in c:\\users\\huycn\\appdata\\local\\packages\\pythonsoftwarefoundation.python.3.13_qbz5n2kfra8p0\\localcache\\local-packages\\python313\\site-packages (from requests->vnstock) (2.3.0)\n",
      "Requirement already satisfied: certifi>=2017.4.17 in c:\\users\\huycn\\appdata\\local\\packages\\pythonsoftwarefoundation.python.3.13_qbz5n2kfra8p0\\localcache\\local-packages\\python313\\site-packages (from requests->vnstock) (2025.1.31)\n",
      "Requirement already satisfied: soupsieve>1.2 in c:\\users\\huycn\\appdata\\local\\packages\\pythonsoftwarefoundation.python.3.13_qbz5n2kfra8p0\\localcache\\local-packages\\python313\\site-packages (from beautifulsoup4->vnstock) (2.6)\n",
      "Requirement already satisfied: typing-extensions>=4.0.0 in c:\\users\\huycn\\appdata\\local\\packages\\pythonsoftwarefoundation.python.3.13_qbz5n2kfra8p0\\localcache\\local-packages\\python313\\site-packages (from beautifulsoup4->vnstock) (4.13.0)\n",
      "Requirement already satisfied: colorama in c:\\users\\huycn\\appdata\\local\\packages\\pythonsoftwarefoundation.python.3.13_qbz5n2kfra8p0\\localcache\\local-packages\\python313\\site-packages (from click->vnstock) (0.4.6)\n",
      "Requirement already satisfied: et-xmlfile in c:\\users\\huycn\\appdata\\local\\packages\\pythonsoftwarefoundation.python.3.13_qbz5n2kfra8p0\\localcache\\local-packages\\python313\\site-packages (from openpyxl->vnstock) (2.0.0)\n",
      "Requirement already satisfied: numpy>=1.26.0 in c:\\users\\huycn\\appdata\\local\\packages\\pythonsoftwarefoundation.python.3.13_qbz5n2kfra8p0\\localcache\\local-packages\\python313\\site-packages (from pandas->vnstock) (2.2.4)\n",
      "Requirement already satisfied: python-dateutil>=2.8.2 in c:\\users\\huycn\\appdata\\local\\packages\\pythonsoftwarefoundation.python.3.13_qbz5n2kfra8p0\\localcache\\local-packages\\python313\\site-packages (from pandas->vnstock) (2.9.0.post0)\n",
      "Requirement already satisfied: pytz>=2020.1 in c:\\users\\huycn\\appdata\\local\\packages\\pythonsoftwarefoundation.python.3.13_qbz5n2kfra8p0\\localcache\\local-packages\\python313\\site-packages (from pandas->vnstock) (2025.2)\n",
      "Requirement already satisfied: tzdata>=2022.7 in c:\\users\\huycn\\appdata\\local\\packages\\pythonsoftwarefoundation.python.3.13_qbz5n2kfra8p0\\localcache\\local-packages\\python313\\site-packages (from pandas->vnstock) (2025.2)\n",
      "Requirement already satisfied: six>=1.5 in c:\\users\\huycn\\appdata\\local\\packages\\pythonsoftwarefoundation.python.3.13_qbz5n2kfra8p0\\localcache\\local-packages\\python313\\site-packages (from python-dateutil>=2.8.2->pandas->vnstock) (1.17.0)\n",
      "Requirement already satisfied: annotated-types>=0.6.0 in c:\\users\\huycn\\appdata\\local\\packages\\pythonsoftwarefoundation.python.3.13_qbz5n2kfra8p0\\localcache\\local-packages\\python313\\site-packages (from pydantic->vnstock) (0.7.0)\n",
      "Requirement already satisfied: pydantic-core==2.33.0 in c:\\users\\huycn\\appdata\\local\\packages\\pythonsoftwarefoundation.python.3.13_qbz5n2kfra8p0\\localcache\\local-packages\\python313\\site-packages (from pydantic->vnstock) (2.33.0)\n",
      "Requirement already satisfied: typing-inspection>=0.4.0 in c:\\users\\huycn\\appdata\\local\\packages\\pythonsoftwarefoundation.python.3.13_qbz5n2kfra8p0\\localcache\\local-packages\\python313\\site-packages (from pydantic->vnstock) (0.4.0)\n",
      "Requirement already satisfied: matplotlib!=3.6.1,>=3.4 in c:\\users\\huycn\\appdata\\local\\packages\\pythonsoftwarefoundation.python.3.13_qbz5n2kfra8p0\\localcache\\local-packages\\python313\\site-packages (from seaborn->vnstock) (3.10.1)\n",
      "Requirement already satisfied: contourpy>=1.0.1 in c:\\users\\huycn\\appdata\\local\\packages\\pythonsoftwarefoundation.python.3.13_qbz5n2kfra8p0\\localcache\\local-packages\\python313\\site-packages (from matplotlib!=3.6.1,>=3.4->seaborn->vnstock) (1.3.1)\n",
      "Requirement already satisfied: cycler>=0.10 in c:\\users\\huycn\\appdata\\local\\packages\\pythonsoftwarefoundation.python.3.13_qbz5n2kfra8p0\\localcache\\local-packages\\python313\\site-packages (from matplotlib!=3.6.1,>=3.4->seaborn->vnstock) (0.12.1)\n",
      "Requirement already satisfied: fonttools>=4.22.0 in c:\\users\\huycn\\appdata\\local\\packages\\pythonsoftwarefoundation.python.3.13_qbz5n2kfra8p0\\localcache\\local-packages\\python313\\site-packages (from matplotlib!=3.6.1,>=3.4->seaborn->vnstock) (4.56.0)\n",
      "Requirement already satisfied: kiwisolver>=1.3.1 in c:\\users\\huycn\\appdata\\local\\packages\\pythonsoftwarefoundation.python.3.13_qbz5n2kfra8p0\\localcache\\local-packages\\python313\\site-packages (from matplotlib!=3.6.1,>=3.4->seaborn->vnstock) (1.4.8)\n",
      "Requirement already satisfied: pillow>=8 in c:\\users\\huycn\\appdata\\local\\packages\\pythonsoftwarefoundation.python.3.13_qbz5n2kfra8p0\\localcache\\local-packages\\python313\\site-packages (from matplotlib!=3.6.1,>=3.4->seaborn->vnstock) (11.1.0)\n",
      "Requirement already satisfied: pyparsing>=2.3.1 in c:\\users\\huycn\\appdata\\local\\packages\\pythonsoftwarefoundation.python.3.13_qbz5n2kfra8p0\\localcache\\local-packages\\python313\\site-packages (from matplotlib!=3.6.1,>=3.4->seaborn->vnstock) (3.2.3)\n",
      "Requirement already satisfied: squarify in c:\\users\\huycn\\appdata\\local\\packages\\pythonsoftwarefoundation.python.3.13_qbz5n2kfra8p0\\localcache\\local-packages\\python313\\site-packages (from vnstock_ezchart->vnstock) (0.4.4)\n",
      "Requirement already satisfied: wordcloud in c:\\users\\huycn\\appdata\\local\\packages\\pythonsoftwarefoundation.python.3.13_qbz5n2kfra8p0\\localcache\\local-packages\\python313\\site-packages (from vnstock_ezchart->vnstock) (1.9.4)\n",
      "Using cached vnstock-3.2.6-py3-none-any.whl (121 kB)\n",
      "Installing collected packages: vnstock\n",
      "Successfully installed vnstock-3.2.6\n",
      "Note: you may need to restart the kernel to use updated packages.\n"
     ]
    }
   ],
   "source": [
    "pip install vnstock --upgrade"
   ]
  },
  {
   "cell_type": "code",
   "execution_count": 6,
   "id": "a87f2e38-f3e0-421e-97a4-c5ba9ecf91f4",
   "metadata": {},
   "outputs": [
    {
     "ename": "AttributeError",
     "evalue": "'Company' object has no attribute 'get_price_data'",
     "output_type": "error",
     "traceback": [
      "\u001b[31m---------------------------------------------------------------------------\u001b[39m",
      "\u001b[31mAttributeError\u001b[39m                            Traceback (most recent call last)",
      "\u001b[36mCell\u001b[39m\u001b[36m \u001b[39m\u001b[32mIn[6]\u001b[39m\u001b[32m, line 8\u001b[39m\n\u001b[32m      5\u001b[39m msh = Company(symbol=\u001b[33m'\u001b[39m\u001b[33mMSH\u001b[39m\u001b[33m'\u001b[39m)\n\u001b[32m      7\u001b[39m \u001b[38;5;66;03m# Lấy dữ liệu giá từ 2019 đến 2024 theo ngày\u001b[39;00m\n\u001b[32m----> \u001b[39m\u001b[32m8\u001b[39m df = \u001b[43mmsh\u001b[49m\u001b[43m.\u001b[49m\u001b[43mget_price_data\u001b[49m(\n\u001b[32m      9\u001b[39m     start_date=\u001b[33m'\u001b[39m\u001b[33m2019-01-01\u001b[39m\u001b[33m'\u001b[39m,\n\u001b[32m     10\u001b[39m     end_date=\u001b[33m'\u001b[39m\u001b[33m2024-12-31\u001b[39m\u001b[33m'\u001b[39m,\n\u001b[32m     11\u001b[39m     resolution=\u001b[33m'\u001b[39m\u001b[33m1D\u001b[39m\u001b[33m'\u001b[39m\n\u001b[32m     12\u001b[39m )\n\u001b[32m     14\u001b[39m \u001b[38;5;66;03m# Xem kết quả\u001b[39;00m\n\u001b[32m     15\u001b[39m \u001b[38;5;28mprint\u001b[39m(df.head())\n",
      "\u001b[36mFile \u001b[39m\u001b[32m~\\AppData\\Local\\Packages\\PythonSoftwareFoundation.Python.3.13_qbz5n2kfra8p0\\LocalCache\\local-packages\\Python313\\site-packages\\vnstock\\base.py:90\u001b[39m, in \u001b[36mBaseAdapter.__getattr__\u001b[39m\u001b[34m(self, name)\u001b[39m\n\u001b[32m     88\u001b[39m \u001b[38;5;28;01mdef\u001b[39;00m\u001b[38;5;250m \u001b[39m\u001b[34m__getattr__\u001b[39m(\u001b[38;5;28mself\u001b[39m, name):\n\u001b[32m     89\u001b[39m     \u001b[38;5;66;03m# Delegate attribute access to the provider\u001b[39;00m\n\u001b[32m---> \u001b[39m\u001b[32m90\u001b[39m     \u001b[38;5;28;01mreturn\u001b[39;00m \u001b[38;5;28;43mgetattr\u001b[39;49m\u001b[43m(\u001b[49m\u001b[38;5;28;43mself\u001b[39;49m\u001b[43m.\u001b[49m\u001b[43m_provider\u001b[49m\u001b[43m,\u001b[49m\u001b[43m \u001b[49m\u001b[43mname\u001b[49m\u001b[43m)\u001b[49m\n",
      "\u001b[31mAttributeError\u001b[39m: 'Company' object has no attribute 'get_price_data'"
     ]
    }
   ],
   "source": [
    "from vnstock import Company\n",
    "import pandas as pd\n",
    "\n",
    "# Tạo đối tượng công ty với mã cổ phiếu cần phân tích\n",
    "msh = Company(symbol='MSH')\n",
    "\n",
    "# Lấy dữ liệu giá từ 2019 đến 2024 theo ngày\n",
    "df = msh.get_price_data(\n",
    "    start_date='2019-01-01',\n",
    "    end_date='2024-12-31',\n",
    "    resolution='1D'\n",
    ")\n",
    "\n",
    "# Xem kết quả\n",
    "print(df.head())"
   ]
  },
  {
   "cell_type": "code",
   "execution_count": 9,
   "id": "97614d85-4289-4281-a99b-a31f388f187a",
   "metadata": {},
   "outputs": [
    {
     "name": "stdout",
     "output_type": "stream",
     "text": [
      "✅ Dữ liệu đã được lưu thành công vào file 'MSH_price_data.xlsx'\n"
     ]
    }
   ],
   "source": [
    "from vnstock import Quote\n",
    "import pandas as pd\n",
    "\n",
    "# Khởi tạo đối tượng Quote với mã cổ phiếu MSH\n",
    "quote = Quote(symbol='MSH', source='VCI')\n",
    "\n",
    "# Lấy dữ liệu giá cổ phiếu từ ngày 2019-01-01 đến 2024-12-31 với độ phân giải theo ngày\n",
    "df = quote.history(start='2019-01-01', end='2024-12-31', interval='1D')\n",
    "df.to_excel('MSH_price_data.xlsx', index=False)\n",
    "\n",
    "print(\"✅ Dữ liệu đã được lưu thành công vào file 'MSH_price_data.xlsx'\")\n"
   ]
  },
  {
   "cell_type": "code",
   "execution_count": 10,
   "id": "b3b1cc97-4eb5-409e-952f-ce1998755017",
   "metadata": {},
   "outputs": [
    {
     "name": "stdout",
     "output_type": "stream",
     "text": [
      "        time   open   high    low  close  volume\n",
      "0 2019-01-02  12.30  12.41  12.27  12.30   19350\n",
      "1 2019-01-03  12.33  12.39  12.00  12.30   46390\n",
      "2 2019-01-04  12.09  12.41  12.09  12.30   30470\n",
      "3 2019-01-07  12.30  12.30  12.15  12.24   10200\n",
      "4 2019-01-08  12.41  12.41  12.30  12.30   22560\n",
      "<class 'pandas.core.frame.DataFrame'>\n",
      "RangeIndex: 1500 entries, 0 to 1499\n",
      "Data columns (total 6 columns):\n",
      " #   Column  Non-Null Count  Dtype         \n",
      "---  ------  --------------  -----         \n",
      " 0   time    1500 non-null   datetime64[ns]\n",
      " 1   open    1500 non-null   float64       \n",
      " 2   high    1500 non-null   float64       \n",
      " 3   low     1500 non-null   float64       \n",
      " 4   close   1500 non-null   float64       \n",
      " 5   volume  1500 non-null   int64         \n",
      "dtypes: datetime64[ns](1), float64(4), int64(1)\n",
      "memory usage: 70.4 KB\n",
      "None\n"
     ]
    }
   ],
   "source": [
    "import pandas as pd\n",
    "\n",
    "# Đọc file Excel\n",
    "df = pd.read_excel(\"MSH_price_data.xlsx\")\n",
    "\n",
    "# Xem trước 5 dòng đầu\n",
    "print(df.head())\n",
    "\n",
    "# Kiểm tra thông tin tổng quan\n",
    "print(df.info())"
   ]
  },
  {
   "cell_type": "code",
   "execution_count": 11,
   "id": "d5fef973-aad3-485b-81df-538a076bb6f8",
   "metadata": {},
   "outputs": [],
   "source": [
    "df.rename(columns={\n",
    "    'time': 'Date',\n",
    "    'open': 'Open',\n",
    "    'high': 'High',\n",
    "    'low': 'Low',\n",
    "    'close': 'Close',\n",
    "    'volume': 'Volume'\n",
    "}, inplace=True)"
   ]
  },
  {
   "cell_type": "code",
   "execution_count": 12,
   "id": "277b1930-713e-4b5e-92bb-2a75759e395a",
   "metadata": {},
   "outputs": [],
   "source": [
    "df['Daily_Return'] = df['Close'].pct_change() * 100  # % thay đổi giá đóng cửa"
   ]
  },
  {
   "cell_type": "code",
   "execution_count": 13,
   "id": "16334694-624f-4923-9b1c-bdf3ffd9f9fa",
   "metadata": {},
   "outputs": [
    {
     "name": "stdout",
     "output_type": "stream",
     "text": [
      "                                Date         Open         High          Low  \\\n",
      "count                           1500  1500.000000  1500.000000  1500.000000   \n",
      "mean   2022-01-03 06:53:45.600000256    21.037353    21.341660    20.721600   \n",
      "min              2019-01-02 00:00:00     7.630000     7.890000     7.630000   \n",
      "25%              2020-07-06 18:00:00    16.040000    16.237500    15.862500   \n",
      "50%              2021-12-29 12:00:00    19.845000    20.250000    19.565000   \n",
      "75%              2023-07-05 06:00:00    27.040000    27.690000    26.692500   \n",
      "max              2024-12-31 00:00:00    37.320000    37.470000    36.200000   \n",
      "std                              NaN     6.817342     6.935813     6.690006   \n",
      "\n",
      "             Close        Volume  Daily_Return  \n",
      "count  1500.000000  1.500000e+03   1499.000000  \n",
      "mean     21.042567  1.274144e+05      0.094783  \n",
      "min       7.630000  4.920000e+03     -7.024433  \n",
      "25%      16.047500  5.069250e+04     -0.936977  \n",
      "50%      19.905000  9.210000e+04      0.000000  \n",
      "75%      27.250000  1.647020e+05      1.135558  \n",
      "max      36.920000  1.075690e+06      7.046632  \n",
      "std       6.817373  1.180193e+05      2.264842  \n",
      "        Date   Open   High    Low  Close  Volume  Daily_Return\n",
      "0 2019-01-02  12.30  12.41  12.27  12.30   19350           NaN\n",
      "1 2019-01-03  12.33  12.39  12.00  12.30   46390      0.000000\n",
      "2 2019-01-04  12.09  12.41  12.09  12.30   30470      0.000000\n",
      "3 2019-01-07  12.30  12.30  12.15  12.24   10200     -0.487805\n",
      "4 2019-01-08  12.41  12.41  12.30  12.30   22560      0.490196\n"
     ]
    }
   ],
   "source": [
    "print(df.describe())\n",
    "print(df.head())"
   ]
  },
  {
   "cell_type": "code",
   "execution_count": 15,
   "id": "aa50de1b-1b5f-4552-95bb-fabfc7655f05",
   "metadata": {},
   "outputs": [],
   "source": [
    "import os\n",
    "\n",
    "# Tạo thư mục nếu chưa có\n",
    "os.makedirs(\"data/cleaned\", exist_ok=True)\n",
    "\n",
    "# Sau đó mới lưu file\n",
    "df.to_csv(\"data/cleaned/MSH_cleaned.csv\", index=False)"
   ]
  }
 ],
 "metadata": {
  "kernelspec": {
   "display_name": "Python 3 (ipykernel)",
   "language": "python",
   "name": "python3"
  },
  "language_info": {
   "codemirror_mode": {
    "name": "ipython",
    "version": 3
   },
   "file_extension": ".py",
   "mimetype": "text/x-python",
   "name": "python",
   "nbconvert_exporter": "python",
   "pygments_lexer": "ipython3",
   "version": "3.13.3"
  }
 },
 "nbformat": 4,
 "nbformat_minor": 5
}
